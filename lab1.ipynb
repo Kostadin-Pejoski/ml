{
 "cells": [
  {
   "metadata": {
    "ExecuteTime": {
     "end_time": "2025-03-11T21:14:58.246694Z",
     "start_time": "2025-03-11T21:14:56.039023Z"
    }
   },
   "cell_type": "code",
   "source": "!pip install ucimlrepo",
   "id": "b17c8fe31c3f687f",
   "outputs": [
    {
     "name": "stdout",
     "output_type": "stream",
     "text": [
      "Requirement already satisfied: ucimlrepo in c:\\users\\random pc\\desktop\\ml\\jupyter_env\\lib\\site-packages (0.0.7)\n",
      "Requirement already satisfied: pandas>=1.0.0 in c:\\users\\random pc\\desktop\\ml\\jupyter_env\\lib\\site-packages (from ucimlrepo) (2.2.3)\n",
      "Requirement already satisfied: certifi>=2020.12.5 in c:\\users\\random pc\\desktop\\ml\\jupyter_env\\lib\\site-packages (from ucimlrepo) (2025.1.31)\n",
      "Requirement already satisfied: numpy>=1.26.0 in c:\\users\\random pc\\desktop\\ml\\jupyter_env\\lib\\site-packages (from pandas>=1.0.0->ucimlrepo) (2.2.3)\n",
      "Requirement already satisfied: python-dateutil>=2.8.2 in c:\\users\\random pc\\desktop\\ml\\jupyter_env\\lib\\site-packages (from pandas>=1.0.0->ucimlrepo) (2.9.0.post0)\n",
      "Requirement already satisfied: pytz>=2020.1 in c:\\users\\random pc\\desktop\\ml\\jupyter_env\\lib\\site-packages (from pandas>=1.0.0->ucimlrepo) (2025.1)\n",
      "Requirement already satisfied: tzdata>=2022.7 in c:\\users\\random pc\\desktop\\ml\\jupyter_env\\lib\\site-packages (from pandas>=1.0.0->ucimlrepo) (2025.1)\n",
      "Requirement already satisfied: six>=1.5 in c:\\users\\random pc\\desktop\\ml\\jupyter_env\\lib\\site-packages (from python-dateutil>=2.8.2->pandas>=1.0.0->ucimlrepo) (1.17.0)\n"
     ]
    },
    {
     "name": "stderr",
     "output_type": "stream",
     "text": [
      "\n",
      "[notice] A new release of pip is available: 24.3.1 -> 25.0.1\n",
      "[notice] To update, run: python.exe -m pip install --upgrade pip\n"
     ]
    }
   ],
   "execution_count": 19
  },
  {
   "metadata": {
    "ExecuteTime": {
     "end_time": "2025-03-11T21:40:15.002376Z",
     "start_time": "2025-03-11T21:40:12.144008Z"
    }
   },
   "cell_type": "code",
   "source": [
    "from ucimlrepo import fetch_ucirepo\n",
    "from sklearn.model_selection import train_test_split\n",
    "\n",
    "from sklearn.naive_bayes import GaussianNB\n",
    "from sklearn.discriminant_analysis import LinearDiscriminantAnalysis, QuadraticDiscriminantAnalysis\n",
    "from sklearn.metrics import accuracy_score\n",
    "\n",
    "glass_identification = fetch_ucirepo(id=42)\n",
    "\n",
    "X = glass_identification.data.features\n",
    "y = glass_identification.data.targets\n",
    "\n",
    "\n",
    "y = y.astype(\"category\")\n",
    "\n",
    "X_train, X_test, y_train, y_test = train_test_split(X, y, test_size=0.3, random_state=0, stratify=y)\n",
    "\n",
    "\n",
    "nb = GaussianNB().fit(X_train, y_train)\n",
    "lda = LinearDiscriminantAnalysis().fit(X_train, y_train)\n",
    "qda = QuadraticDiscriminantAnalysis().fit(X_train, y_train)\n",
    "\n",
    "y_pred_nb = nb.predict(X_test)\n",
    "y_pred_lda = lda.predict(X_test)\n",
    "y_pred_qda = qda.predict(X_test)\n",
    "\n",
    "print(\"Naïve Bayes Accuracy:\", accuracy_score(y_test, y_pred_nb))\n",
    "print(\"LDA Accuracy:\", accuracy_score(y_test, y_pred_lda))\n",
    "print(\"QDA Accuracy:\", accuracy_score(y_test, y_pred_qda))\n"
   ],
   "id": "f0bcd04a58c9f357",
   "outputs": [
    {
     "ename": "TypeError",
     "evalue": "unhashable type: 'numpy.ndarray'",
     "output_type": "error",
     "traceback": [
      "\u001B[31m---------------------------------------------------------------------------\u001B[39m",
      "\u001B[31mTypeError\u001B[39m                                 Traceback (most recent call last)",
      "\u001B[36mCell\u001B[39m\u001B[36m \u001B[39m\u001B[32mIn[31]\u001B[39m\u001B[32m, line 20\u001B[39m\n\u001B[32m     18\u001B[39m counterPerClass={}\n\u001B[32m     19\u001B[39m \u001B[38;5;28;01mfor\u001B[39;00m i \u001B[38;5;129;01min\u001B[39;00m y.to_numpy():\n\u001B[32m---> \u001B[39m\u001B[32m20\u001B[39m     \u001B[38;5;28;01mif\u001B[39;00m \u001B[43mi\u001B[49m\u001B[43m \u001B[49m\u001B[38;5;129;43;01mnot\u001B[39;49;00m\u001B[43m \u001B[49m\u001B[38;5;129;43;01min\u001B[39;49;00m\u001B[43m \u001B[49m\u001B[43mcounterPerClass\u001B[49m:\n\u001B[32m     21\u001B[39m         counterPerClass[i]=\u001B[32m1\u001B[39m\n\u001B[32m     22\u001B[39m     \u001B[38;5;28;01melse\u001B[39;00m:\n",
      "\u001B[31mTypeError\u001B[39m: unhashable type: 'numpy.ndarray'"
     ]
    }
   ],
   "execution_count": 31
  },
  {
   "metadata": {},
   "cell_type": "code",
   "outputs": [],
   "execution_count": null,
   "source": "",
   "id": "45e4b359436182d2"
  }
 ],
 "metadata": {
  "kernelspec": {
   "display_name": "Python 3",
   "language": "python",
   "name": "python3"
  },
  "language_info": {
   "codemirror_mode": {
    "name": "ipython",
    "version": 2
   },
   "file_extension": ".py",
   "mimetype": "text/x-python",
   "name": "python",
   "nbconvert_exporter": "python",
   "pygments_lexer": "ipython2",
   "version": "2.7.6"
  }
 },
 "nbformat": 4,
 "nbformat_minor": 5
}
